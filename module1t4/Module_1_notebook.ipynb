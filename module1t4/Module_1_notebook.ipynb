{
 "cells": [
  {
   "attachments": {},
   "cell_type": "markdown",
   "metadata": {},
   "source": [
    "# Module 1 - Uncertainty and Entropy I\n",
    "\n",
    "Author: Julio Correa, 2020; based on the original Matlab tutorials.<br/>\n",
    "Adaptations by: J. Lizier, 2023-\n",
    "\n",
    "The following block aims to import all the relevant libraries to analyse data"
   ]
  },
  {
   "cell_type": "code",
   "execution_count": 2,
   "metadata": {},
   "outputs": [],
   "source": [
    "import numpy as np\n",
    "import matplotlib.pyplot as plt\n",
    "import math"
   ]
  },
  {
   "cell_type": "markdown",
   "metadata": {},
   "source": [
    "# 1. Coding Shannon information content\n",
    "\n",
    "During our Introduction to Information Theory block, we will alter several Python functions in order to compute information-theoretic quantities.\n",
    "\n",
    "Our first activity with these templates is to implement the Shannon information content:\n",
    "\n",
    "$h\\left(x\\right)=\\log_2{\\left( \\frac{1}{p(x)} \\right)}=-\\log_2 {p(x)}$\n",
    "\n",
    "1. Edit the Python function <code>infocontent(p)</code> below to return the Shannon information content for an outcome $x$ with probability $p(x)$. Make sure that you use the function <code>np.log2()</code> rather than <code>np.log()</code> to get your answers in bits rather than nats.\n",
    "    1. the value that we want is <code>-np.log2(p)</code>\n",
    "    1. and we can assign this to be returned from the function by calling this from the return line: <code>return -np.log2(p)</code>\n"
   ]
  },
  {
   "cell_type": "code",
   "execution_count": 104,
   "metadata": {},
   "outputs": [],
   "source": [
    "\"\"\"function infocontent(p)\n",
    "Computes the Shannon information content for an outcome x of a random variable\n",
    "X with probability p.\n",
    "\n",
    "Inputs:\n",
    "- p - probability to compute the Shannon info content for\n",
    "\n",
    "Outputs:\n",
    "- result - Shannon info content of the probability p\n",
    "\n",
    "Copyright (C) 2020-, Julio Correa, Joseph T. Lizier\n",
    "Distributed under GNU General Public License v3\n",
    "\"\"\"\n",
    "\n",
    "from typing import Union\n",
    "\n",
    "\n",
    "def infocontent(p: Union[float, np.ndarray]) -> np.ndarray:\n",
    "    p = np.asarray(p)\n",
    "    assert np.all((0 <= p) & (p <= 1)), \"All elements in p must be in the range [0, 1]\"\n",
    "    p = np.where(p == 0, np.nextafter(0, 1), p)\n",
    "    return -np.log2(p)"
   ]
  },
  {
   "cell_type": "markdown",
   "metadata": {},
   "source": [
    "2. To evaluate a function in Python, we type it's name with an appropriate argument supplied in brackets. For example, to evaluate the Shannon information content with our function for an outcome with had probability 0.2, you would call:\n",
    "<code>infocontent(0.2)</code>\n",
    "If you want to see the output printed to the screen, then enclose this in a <code>print</code> function:\n",
    "<code>print(infocontent(0.2))</code>\n",
    "\n",
    "    Compute the following using your function:\n",
    "    - h(heads) for a fair coin?\n",
    "    - h(1) for a 6-sided die? h(not 1) for a 6-sided die?\n",
    "    - h(1) for a 20-sided die? h(not 1) for a 20-sided die?"
   ]
  },
  {
   "cell_type": "code",
   "execution_count": 4,
   "metadata": {},
   "outputs": [
    {
     "name": "stdout",
     "output_type": "stream",
     "text": [
      "h(heads) for a fair coin: 1.0\n",
      "h(1) for a 6-sided die: 2.584962500721156\n",
      "h(not 1) for a 6-sided die: 0.2630344058337938\n",
      "h(1) for a 20-sided die: 4.321928094887363\n",
      "h(not 1) for a 20-sided die: 0.07400058144377693\n"
     ]
    }
   ],
   "source": [
    "# h(heads) for a fair coin?\n",
    "p_heads = 0.5\n",
    "h_heads = infocontent(p_heads)\n",
    "print(f\"h(heads) for a fair coin: {h_heads}\")\n",
    " \n",
    "# h(1) for a 6-sided die?\n",
    "p_1 = 1/6\n",
    "h_1 = infocontent(p_1)\n",
    "print(f\"h(1) for a 6-sided die: {h_1}\")\n",
    "\n",
    "# h(not 1) for a 6-sided die?\n",
    "p_not_1 = 1 - p_1\n",
    "h_not_1 = infocontent(p_not_1)\n",
    "print(f\"h(not 1) for a 6-sided die: {h_not_1}\")\n",
    "\n",
    "# h(1) for a 20-sided die?\n",
    "p_1 = 1/20\n",
    "h_1 = infocontent(p_1)\n",
    "print(f\"h(1) for a 20-sided die: {h_1}\")\n",
    "\n",
    "# h(not 1) for a 20-sided die?\n",
    "p_not_1 = 1 - p_1\n",
    "h_not_1 = infocontent(p_not_1)\n",
    "print(f\"h(not 1) for a 20-sided die: {h_not_1}\")\n"
   ]
  },
  {
   "cell_type": "markdown",
   "metadata": {},
   "source": [
    "3. Reproduce the plot below of $h(x)$ versus $p(x)$ using the matlibplot <code>plot()</code> function.\n",
    "\n",
    "    Hints:\n",
    "    1. Input <code>p</code> to <code>infocontent(p)</code> as a vector across the range <code>p = np.arange(0.01,1.001,0.01)</code>.\n",
    "    2. Make an inline plot with matplotlib by calling <code>plt.plot(x, y)</code>, with <code>p</code> and <code>infocontent(p)</code>"
   ]
  },
  {
   "attachments": {},
   "cell_type": "markdown",
   "metadata": {},
   "source": [
    "<div>\n",
    "<img src=\"./ShannonInfoContentVersusP.png\" width=\"400\"/>\n",
    "</div>\n"
   ]
  },
  {
   "cell_type": "code",
   "execution_count": 5,
   "metadata": {},
   "outputs": [
    {
     "data": {
      "image/png": "[encoded data removed]",
      "text/plain": [
       "<Figure size 640x480 with 1 Axes>"
      ]
     },
     "metadata": {},
     "output_type": "display_data"
    }
   ],
   "source": [
    "# Define the array for p\n",
    "p = np.linspace(0.001, 1, 100)\n",
    "\n",
    "# Compute the infocontent() of the array p\n",
    "h = infocontent(p)\n",
    "\n",
    "# Make the plot and don't forget to label axes\n",
    "plt.plot(p, h)\n",
    "plt.xlabel('p(x)')\n",
    "plt.ylabel('h(x)')\n",
    "plt.title('Shannon Information Content')\n",
    "plt.show()"
   ]
  },
  {
   "cell_type": "markdown",
   "metadata": {},
   "source": [
    "4. Have a look at the characters that we could play Guess Who? with on the [Kooky characters sheet](https://web.archive.org/web/20170215034006/http://www.hasbro.com/upload/guesswho/GWc_Kooky-en_GB.pdf). Assuming that your partner selects one of these characters at random, compute the probability and then the Shannon information content of their character:\n",
    "    1. being Jason?\n",
    "    2. having one eye?\n",
    "    3. having more than one eye?"
   ]
  },
  {
   "cell_type": "code",
   "execution_count": 6,
   "metadata": {},
   "outputs": [
    {
     "name": "stdout",
     "output_type": "stream",
     "text": [
      "h(Jason): 4.584962500721156\n",
      "h(one eye): 2.263034405833794\n",
      "h(more than one eye): 0.33703498727757075\n"
     ]
    }
   ],
   "source": [
    "# h(Jason)?\n",
    "p_jason = 1 / 24\n",
    "h_jason = infocontent(p_jason)\n",
    "print(f\"h(Jason): {h_jason}\")\n",
    "\n",
    "# h(one eye)?\n",
    "p_one_eye = 5 / 24 # lawrence, telly, boris, albert, finnian\n",
    "h_one_eye = infocontent(p_one_eye)\n",
    "print(f\"h(one eye): {h_one_eye}\")\n",
    "\n",
    "# h(more than one eye)?\n",
    "p_more_than_one_eye = 1 - p_one_eye\n",
    "h_more_than_one_eye = infocontent(p_more_than_one_eye)\n",
    "print(f\"h(more than one eye): {h_more_than_one_eye}\")\n"
   ]
  },
  {
   "cell_type": "markdown",
   "metadata": {},
   "source": [
    "5. Based on those answers, reflect on the following:\n",
    "    1. Would a good first question be \"does your character have one eye?\" ? Why / why not?\n",
    "        - Maybe? it a risky question, since the out outcome could be either cause, we might get lot of information(one eye) or little information (more than one eye)\n",
    "    2. Would a good first question be \"are you Jason?\" ? Why / why not?\n",
    "        - No, 25/26 you will get little to no information."
   ]
  },
  {
   "cell_type": "markdown",
   "metadata": {},
   "source": [
    "# 2. Coding Shannon entropy\n",
    "\n",
    "In this exercise we continue to generate Python code to measure the Shannon entropy for a distribution $p(x)$:\n",
    "\n",
    "$H(X)=-\\sum_xp\\left(x\\right)\\log_2p\\left(x\\right)$\n",
    "\n",
    "Your task is to edit the Python function <code>entropy(p)</code> in the next cell to return the Shannon entropy for the given distribution $p(x)$ over outcomes $x$ of $X$.\n",
    "\n",
    "Note the input argument to the function is a vector <code>p</code>, representing the probability mass for each outcome of $x$. That is, <code>p</code> is a vector with the $n$th entry in the vector giving the probability for the $n$th value that $x$ may take. The sum of the items in the vector <code>p</code> must be 1.\n",
    "\n",
    "For example, for a binary $x$ we could have <b>p = np.array([0.25, 0.75])</b> where $p(x=0) = 0.25$ and $p(x=1) = 0.75$.\n",
    "\n",
    " - If we knew x was a binary variable, and we only took one argument, $p = p(x=1)$, how could you write one line of code to compute H(X) from p? (_Hint_: what would $log_2(p(x=1))$ be as a function of $p$? What would $log_2(p(x=0))$ be as a function of $p$? Can you combine these to give $H(X)$ ?) \n",
    "\n",
    "Let's assume that we don't know how many values $x$ could take, and write the code for an arbitrary length vector $p$.\n",
    "\n",
    "1. Can you think of two ways to write the code to sum up the contribution for each item $p(x)$ in the vector $x$, being:\n",
    "    1. for loop over the items of p, or<br>\n",
    "    1. the sum of a vector multiplication or dot product in Python?\n",
    "\n",
    "    Implement one of these in <code>entropy(p)</code>. (Usually the latter is faster)\n",
    "\n",
    "2. Think of possible error conditions here, and how you can handle these in your code."
   ]
  },
  {
   "cell_type": "code",
   "execution_count": 7,
   "metadata": {},
   "outputs": [],
   "source": [
    "\"\"\"function entropy(p)\n",
    "Computes the Shannon entropy for a probability distribution p.\n",
    "\n",
    "Inputs:\n",
    "- p - (array which much sum to 1) - a probability distribution to compute the Shannon info content for\n",
    "\n",
    "Outputs:\n",
    "- result - Shannon entropy of the probability distribution p\n",
    "\n",
    "Copyright (C) 2020-, Julio Correa, Joseph T. Lizier\n",
    "Distributed under GNU General Public License v3\n",
    "\"\"\"\n",
    "def entropy(p: Union[np.ndarray, list]) -> np.ndarray:  \n",
    "    # First make sure the array is now a numpy array\n",
    "    if not isinstance(p, np.ndarray):\n",
    "        p = np.array(p)\n",
    "\n",
    "    # check if the sum of the array is equal to 1 and if all elements are in the range [0, 1]\n",
    "    assert np.isclose(np.sum(p, axis=-1), 1).all(), \"The sum of the array must be equal to 1\"\n",
    "    assert np.all((0 <= p) & (p <= 1)), \"All elements in p must be in the range [0, 1]\"\n",
    "\n",
    "    # We need to take the expectation value over the Shannon info content at\n",
    "    # p(x) for each outcome x:\n",
    "    # Alter the equation below to provide the correct entropy:\n",
    "    return np.sum( p * infocontent(p), axis=-1)"
   ]
  },
  {
   "cell_type": "markdown",
   "metadata": {},
   "source": [
    "3. Write down the answer you expect, and test that your code gives answers you expect for:\n",
    "    1. <code>entropy([0.5, 0.5])</code>\n",
    "    2. <code>entropy([0.25, 0.25, 0.25, 0.25])</code>\n",
    "    3. <code>entropy([1, 0])</code>"
   ]
  },
  {
   "cell_type": "code",
   "execution_count": 8,
   "metadata": {},
   "outputs": [
    {
     "name": "stdout",
     "output_type": "stream",
     "text": [
      "entropy([0.5, 0.5]): 1.0\n",
      "entropy([0.25, 0.25, 0.25, 0.25]): 2.0\n",
      "entropy([1, 0]): 0.0\n"
     ]
    }
   ],
   "source": [
    "# entropy([0.5, 0.5]) ?\n",
    "p = np.array([0.5, 0.5])\n",
    "h = entropy(p)\n",
    "print(f\"entropy([0.5, 0.5]): {h}\")\n",
    "\n",
    "# entropy([0.25, 0.25, 0.25, 0.25]) ?\n",
    "p = np.array([0.25, 0.25, 0.25, 0.25])\n",
    "h = entropy(p)\n",
    "print(f\"entropy([0.25, 0.25, 0.25, 0.25]): {h}\")\n",
    "\n",
    "# entropy([1, 0]) ?\n",
    "p = np.array([1, 0])\n",
    "h = entropy(p)\n",
    "print(f\"entropy([1, 0]): {h}\")"
   ]
  },
  {
   "cell_type": "markdown",
   "metadata": {},
   "source": [
    "4. _Challenge_: Plot $H(X)$ as a function of $p(x=1)$ for binary $X$. (See the plot we expect on the figure below). This will involve a loop over values of $p = p(x=1)$ to call the <code>entropy(p)</code> function with a vector corresponding to each $\\{p(x=1), p(x=0)\\}$ pair."
   ]
  },
  {
   "attachments": {},
   "cell_type": "markdown",
   "metadata": {},
   "source": [
    "<div>\n",
    "<img src=\"./ShannonEntropyVersusP.png\" width=\"400\"/>\n",
    "</div>\n"
   ]
  },
  {
   "cell_type": "code",
   "execution_count": 12,
   "metadata": {},
   "outputs": [
    {
     "data": {
      "image/png": "[encoded data removed]",
      "text/plain": [
       "<Figure size 640x480 with 1 Axes>"
      ]
     },
     "metadata": {},
     "output_type": "display_data"
    }
   ],
   "source": [
    "# Add your code to plot H(X) vs p(x=1) below, and don't forget to label axes\n",
    "\n",
    "p = np.linspace(0, 1, 100)\n",
    "p = np.array([p, 1 - p]).T\n",
    "h = entropy(p)\n",
    "plt.plot(p[:, 0], h)\n",
    "plt.xlabel('p(x=1)')\n",
    "plt.ylabel('H(X)')\n",
    "plt.title('Shannon Entropy for a binary random variable')\n",
    "plt.show()\n"
   ]
  },
  {
   "cell_type": "markdown",
   "metadata": {},
   "source": [
    "Now make a similar plot for X with alphabet size c, assuming that p(x) for x~=1 is uniform as (1-p(x=1))/(c-1). How is the plot different as a function of c and why?"
   ]
  },
  {
   "cell_type": "code",
   "execution_count": 75,
   "metadata": {},
   "outputs": [
    {
     "data": {
      "image/png": "[encoded data removed]",
      "text/plain": [
       "<Figure size 640x480 with 1 Axes>"
      ]
     },
     "metadata": {},
     "output_type": "display_data"
    }
   ],
   "source": [
    "def calculate_entropy(p1: np.array, c: int) -> np.array:\n",
    "    \"\"\"Caculate entropy for a random variable with c symbols and a probability p1 for the first symbol.\"\"\"\n",
    "    # calculate the probability for all symbols assuming uniform distribution\n",
    "    p_rest = (1 - p1) / (c - 1)\n",
    "    p = np.tile(p_rest, (c, 1)).T\n",
    "    p[:, 0] = p1\n",
    "    return entropy(p)\n",
    "\n",
    "c_values = [2, 4, 8, 16]\n",
    "p1 = np.linspace(0, 1, 100)\n",
    "for c in c_values:\n",
    "    h = calculate_entropy(p1, c)\n",
    "    plt.plot(p1, h, label=f'Alphabet size c={c}')\n",
    "plt.plot(p1, h)\n",
    "plt.xlabel('p(x=1)')\n",
    "plt.ylabel('H(X)')\n",
    "plt.legend()\n",
    "plt.title('Shannon Entropy for a binary random variable')\n",
    "plt.show()\n"
   ]
  },
  {
   "cell_type": "markdown",
   "metadata": {},
   "source": [
    "The max H(X) for size c is when p(x_1) equal other x (uniform distribution), as we increase c, p(x=1) which give uniform distribution shift left. Also as c grow, the maximum entropy grow logarithmly."
   ]
  },
  {
   "cell_type": "markdown",
   "metadata": {},
   "source": [
    "5. Coming back to the characters that we could play Guess Who? with on the [Kooky characters sheet](https://web.archive.org/web/20170215034006/http://www.hasbro.com/upload/guesswho/GWc_Kooky-en_GB.pdf), validate that (using your <code>entropy</code> function):\n",
    "    1. $H(who) = 4.585$ bits  (entropy of the character's identity)\n",
    "    1. $H(one\\ eye?) = 0.738$ bits  (entropy of whether the character has one eye or more than one eye)\n",
    "    1. $H(Jason) = 0.2499$ bits  (entropy of whether the character is Jason or not)"
   ]
  },
  {
   "cell_type": "code",
   "execution_count": 11,
   "metadata": {},
   "outputs": [
    {
     "name": "stdout",
     "output_type": "stream",
     "text": [
      "H(who): 4.5850\n",
      "H(one eye): 0.7383\n",
      "H(Jason): 0.2499\n"
     ]
    }
   ],
   "source": [
    "# Add your code here to validate the entropies as above:\n",
    "p_who = 1 / 24\n",
    "h_who = entropy([p_who] * 24)\n",
    "print(f\"H(who): {h_who:.4f}\")\n",
    "\n",
    "p_one_eye = 5 / 24\n",
    "h_one_eye = entropy([p_one_eye, 1 - p_one_eye])\n",
    "print(f\"H(one eye): {h_one_eye:.4f}\")\n",
    "\n",
    "p_jason = 1 / 24\n",
    "p_one_eye = 5 / 24\n",
    "h_jason = entropy([p_jason, 1 - p_jason])\n",
    "print(f\"H(Jason): {h_jason:.4f}\")\n"
   ]
  },
  {
   "cell_type": "markdown",
   "metadata": {},
   "source": [
    "6. Based on those answers and in comparison to your responses on the earlier exercise, reflect on the following:\n",
    "    1. Would a good first question be _\"does your character have one eye?\"_ ? Why / why not?\n",
    "    - yes, it can on avg give use 0.74 bits of information, and the systme of 4.59 bits of information\n",
    "    1. Would a good first question be _\"are you Jason?\"_ ? Why / why not?\n",
    "    - no, the average information we can get from this question is low.\n",
    "    1. What is the best question to ask first that you can think of, and why? (as an optional tangent, you could watch [a video](https://youtu.be/FRlbNOno5VA) which goes into some detail about what the best questions might be -- again, think about the information-theoretic view on what is being said there)\n",
    "    "
   ]
  },
  {
   "cell_type": "markdown",
   "metadata": {},
   "source": [
    "## probability distribution of each letter of the alphabet\n",
    "- Calculate and display the Shannon information content for each letter (and space).\n",
    "- Can you explain the meaning of the results?\n",
    "- What is the entropy of the letters (and spaces) - can you validate this is the weighted average of the Shannon information contents you computed?\n",
    "- What does this mean about how many (good) questions you would need to ask on average in order to guess a letter sampled from this distribution?"
   ]
  },
  {
   "cell_type": "code",
   "execution_count": 98,
   "metadata": {},
   "outputs": [
    {
     "data": {
      "text/html": [
       "<div>\n",
       "<style scoped>\n",
       "    .dataframe tbody tr th:only-of-type {\n",
       "        vertical-align: middle;\n",
       "    }\n",
       "\n",
       "    .dataframe tbody tr th {\n",
       "        vertical-align: top;\n",
       "    }\n",
       "\n",
       "    .dataframe thead th {\n",
       "        text-align: right;\n",
       "    }\n",
       "</style>\n",
       "<table border=\"1\" class=\"dataframe\">\n",
       "  <thead>\n",
       "    <tr style=\"text-align: right;\">\n",
       "      <th></th>\n",
       "      <th>a_i</th>\n",
       "      <th>p_i</th>\n",
       "    </tr>\n",
       "  </thead>\n",
       "  <tbody>\n",
       "    <tr>\n",
       "      <th>0</th>\n",
       "      <td>a</td>\n",
       "      <td>0.057493</td>\n",
       "    </tr>\n",
       "    <tr>\n",
       "      <th>1</th>\n",
       "      <td>b</td>\n",
       "      <td>0.012793</td>\n",
       "    </tr>\n",
       "    <tr>\n",
       "      <th>2</th>\n",
       "      <td>c</td>\n",
       "      <td>0.026293</td>\n",
       "    </tr>\n",
       "    <tr>\n",
       "      <th>3</th>\n",
       "      <td>d</td>\n",
       "      <td>0.028493</td>\n",
       "    </tr>\n",
       "    <tr>\n",
       "      <th>4</th>\n",
       "      <td>e</td>\n",
       "      <td>0.091293</td>\n",
       "    </tr>\n",
       "  </tbody>\n",
       "</table>\n",
       "</div>"
      ],
      "text/plain": [
       "  a_i       p_i\n",
       "0   a  0.057493\n",
       "1   b  0.012793\n",
       "2   c  0.026293\n",
       "3   d  0.028493\n",
       "4   e  0.091293"
      ]
     },
     "execution_count": 98,
     "metadata": {},
     "output_type": "execute_result"
    }
   ],
   "source": [
    "import pandas as pd\n",
    "\n",
    "data = {\n",
    "    'a_i': ['a', 'b', 'c', 'd', 'e', 'f', 'g', 'h', 'i', 'j', 'k', 'l', 'm', 'n', 'o', 'p', 'q', 'r', 's', 't', 'u', 'v', 'w', 'x', 'y', 'z', '_'],\n",
    "    'p_i': [0.0575, 0.0128, 0.0263, 0.0285, 0.0913, 0.0173, 0.0133, 0.0313, 0.0599, 0.0006, 0.0084, 0.0335, 0.0235, 0.0596, 0.0689, 0.0192, 0.0008, 0.0508, 0.0567, 0.0706, 0.0334, 0.0069, 0.0119, 0.0073, 0.0164, 0.0007, 0.1928]\n",
    "}\n",
    "df = pd.DataFrame(data)\n",
    "df.head()\n",
    "\n",
    "# numerical correction to ensure the sum of the probabilities is 1\n",
    "df['p_i'] -= (sum(df['p_i']) - 1) / df.shape[0]\n",
    "\n",
    "df.head()"
   ]
  },
  {
   "cell_type": "code",
   "execution_count": 99,
   "metadata": {},
   "outputs": [
    {
     "data": {
      "text/html": [
       "<div>\n",
       "<style scoped>\n",
       "    .dataframe tbody tr th:only-of-type {\n",
       "        vertical-align: middle;\n",
       "    }\n",
       "\n",
       "    .dataframe tbody tr th {\n",
       "        vertical-align: top;\n",
       "    }\n",
       "\n",
       "    .dataframe thead th {\n",
       "        text-align: right;\n",
       "    }\n",
       "</style>\n",
       "<table border=\"1\" class=\"dataframe\">\n",
       "  <thead>\n",
       "    <tr style=\"text-align: right;\">\n",
       "      <th></th>\n",
       "      <th>a_i</th>\n",
       "      <th>p_i</th>\n",
       "      <th>h_i</th>\n",
       "    </tr>\n",
       "  </thead>\n",
       "  <tbody>\n",
       "    <tr>\n",
       "      <th>0</th>\n",
       "      <td>a</td>\n",
       "      <td>0.057493</td>\n",
       "      <td>4.120480</td>\n",
       "    </tr>\n",
       "    <tr>\n",
       "      <th>1</th>\n",
       "      <td>b</td>\n",
       "      <td>0.012793</td>\n",
       "      <td>6.288548</td>\n",
       "    </tr>\n",
       "    <tr>\n",
       "      <th>2</th>\n",
       "      <td>c</td>\n",
       "      <td>0.026293</td>\n",
       "      <td>5.249200</td>\n",
       "    </tr>\n",
       "    <tr>\n",
       "      <th>3</th>\n",
       "      <td>d</td>\n",
       "      <td>0.028493</td>\n",
       "      <td>5.133269</td>\n",
       "    </tr>\n",
       "    <tr>\n",
       "      <th>4</th>\n",
       "      <td>e</td>\n",
       "      <td>0.091293</td>\n",
       "      <td>3.453358</td>\n",
       "    </tr>\n",
       "    <tr>\n",
       "      <th>5</th>\n",
       "      <td>f</td>\n",
       "      <td>0.017293</td>\n",
       "      <td>5.853702</td>\n",
       "    </tr>\n",
       "    <tr>\n",
       "      <th>6</th>\n",
       "      <td>g</td>\n",
       "      <td>0.013293</td>\n",
       "      <td>6.233234</td>\n",
       "    </tr>\n",
       "    <tr>\n",
       "      <th>7</th>\n",
       "      <td>h</td>\n",
       "      <td>0.031293</td>\n",
       "      <td>4.998035</td>\n",
       "    </tr>\n",
       "    <tr>\n",
       "      <th>8</th>\n",
       "      <td>i</td>\n",
       "      <td>0.059893</td>\n",
       "      <td>4.061479</td>\n",
       "    </tr>\n",
       "    <tr>\n",
       "      <th>9</th>\n",
       "      <td>j</td>\n",
       "      <td>0.000593</td>\n",
       "      <td>10.720672</td>\n",
       "    </tr>\n",
       "    <tr>\n",
       "      <th>10</th>\n",
       "      <td>k</td>\n",
       "      <td>0.008393</td>\n",
       "      <td>6.896668</td>\n",
       "    </tr>\n",
       "    <tr>\n",
       "      <th>11</th>\n",
       "      <td>l</td>\n",
       "      <td>0.033493</td>\n",
       "      <td>4.900014</td>\n",
       "    </tr>\n",
       "    <tr>\n",
       "      <th>12</th>\n",
       "      <td>m</td>\n",
       "      <td>0.023493</td>\n",
       "      <td>5.411650</td>\n",
       "    </tr>\n",
       "    <tr>\n",
       "      <th>13</th>\n",
       "      <td>n</td>\n",
       "      <td>0.059593</td>\n",
       "      <td>4.068723</td>\n",
       "    </tr>\n",
       "    <tr>\n",
       "      <th>14</th>\n",
       "      <td>o</td>\n",
       "      <td>0.068893</td>\n",
       "      <td>3.859507</td>\n",
       "    </tr>\n",
       "    <tr>\n",
       "      <th>15</th>\n",
       "      <td>p</td>\n",
       "      <td>0.019193</td>\n",
       "      <td>5.703307</td>\n",
       "    </tr>\n",
       "    <tr>\n",
       "      <th>16</th>\n",
       "      <td>q</td>\n",
       "      <td>0.000793</td>\n",
       "      <td>10.301133</td>\n",
       "    </tr>\n",
       "    <tr>\n",
       "      <th>17</th>\n",
       "      <td>r</td>\n",
       "      <td>0.050793</td>\n",
       "      <td>4.299238</td>\n",
       "    </tr>\n",
       "    <tr>\n",
       "      <th>18</th>\n",
       "      <td>s</td>\n",
       "      <td>0.056693</td>\n",
       "      <td>4.140696</td>\n",
       "    </tr>\n",
       "    <tr>\n",
       "      <th>19</th>\n",
       "      <td>t</td>\n",
       "      <td>0.070593</td>\n",
       "      <td>3.824339</td>\n",
       "    </tr>\n",
       "    <tr>\n",
       "      <th>20</th>\n",
       "      <td>u</td>\n",
       "      <td>0.033393</td>\n",
       "      <td>4.904328</td>\n",
       "    </tr>\n",
       "    <tr>\n",
       "      <th>21</th>\n",
       "      <td>v</td>\n",
       "      <td>0.006893</td>\n",
       "      <td>7.180738</td>\n",
       "    </tr>\n",
       "    <tr>\n",
       "      <th>22</th>\n",
       "      <td>w</td>\n",
       "      <td>0.011893</td>\n",
       "      <td>6.393793</td>\n",
       "    </tr>\n",
       "    <tr>\n",
       "      <th>23</th>\n",
       "      <td>x</td>\n",
       "      <td>0.007293</td>\n",
       "      <td>7.099352</td>\n",
       "    </tr>\n",
       "    <tr>\n",
       "      <th>24</th>\n",
       "      <td>y</td>\n",
       "      <td>0.016393</td>\n",
       "      <td>5.930812</td>\n",
       "    </tr>\n",
       "    <tr>\n",
       "      <th>25</th>\n",
       "      <td>z</td>\n",
       "      <td>0.000693</td>\n",
       "      <td>10.495705</td>\n",
       "    </tr>\n",
       "    <tr>\n",
       "      <th>26</th>\n",
       "      <td>_</td>\n",
       "      <td>0.192793</td>\n",
       "      <td>2.374878</td>\n",
       "    </tr>\n",
       "  </tbody>\n",
       "</table>\n",
       "</div>"
      ],
      "text/plain": [
       "   a_i       p_i        h_i\n",
       "0    a  0.057493   4.120480\n",
       "1    b  0.012793   6.288548\n",
       "2    c  0.026293   5.249200\n",
       "3    d  0.028493   5.133269\n",
       "4    e  0.091293   3.453358\n",
       "5    f  0.017293   5.853702\n",
       "6    g  0.013293   6.233234\n",
       "7    h  0.031293   4.998035\n",
       "8    i  0.059893   4.061479\n",
       "9    j  0.000593  10.720672\n",
       "10   k  0.008393   6.896668\n",
       "11   l  0.033493   4.900014\n",
       "12   m  0.023493   5.411650\n",
       "13   n  0.059593   4.068723\n",
       "14   o  0.068893   3.859507\n",
       "15   p  0.019193   5.703307\n",
       "16   q  0.000793  10.301133\n",
       "17   r  0.050793   4.299238\n",
       "18   s  0.056693   4.140696\n",
       "19   t  0.070593   3.824339\n",
       "20   u  0.033393   4.904328\n",
       "21   v  0.006893   7.180738\n",
       "22   w  0.011893   6.393793\n",
       "23   x  0.007293   7.099352\n",
       "24   y  0.016393   5.930812\n",
       "25   z  0.000693  10.495705\n",
       "26   _  0.192793   2.374878"
      ]
     },
     "execution_count": 99,
     "metadata": {},
     "output_type": "execute_result"
    }
   ],
   "source": [
    "# Calculate and display the Shannon information content for each letter (and space).\n",
    "df['h_i'] = infocontent(df['p_i'])\n",
    "df"
   ]
  },
  {
   "cell_type": "markdown",
   "metadata": {},
   "source": [
    "Some alphabet are seldom used in dictionary such as letter j and z."
   ]
  },
  {
   "cell_type": "code",
   "execution_count": 103,
   "metadata": {},
   "outputs": [
    {
     "name": "stdout",
     "output_type": "stream",
     "text": [
      "Entropy of the letters:  4.108594971197787\n"
     ]
    }
   ],
   "source": [
    "# calculate entropy of the letters\n",
    "h = entropy(df['p_i']).item()\n",
    "print(\"Entropy of the letters: \", h)"
   ]
  },
  {
   "cell_type": "markdown",
   "metadata": {},
   "source": [
    "In average we need to ask 4.1 question yes no question."
   ]
  }
 ],
 "metadata": {
  "kernelspec": {
   "display_name": "Python 3 (ipykernel)",
   "language": "python",
   "name": "python3"
  },
  "language_info": {
   "codemirror_mode": {
    "name": "ipython",
    "version": 3
   },
   "file_extension": ".py",
   "mimetype": "text/x-python",
   "name": "python",
   "nbconvert_exporter": "python",
   "pygments_lexer": "ipython3",
   "version": "3.12.4"
  }
 },
 "nbformat": 4,
 "nbformat_minor": 4
}
